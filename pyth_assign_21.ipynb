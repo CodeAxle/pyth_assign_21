{
 "cells": [
  {
   "cell_type": "markdown",
   "id": "9404e8c8",
   "metadata": {},
   "source": [
    "# 1."
   ]
  },
  {
   "cell_type": "code",
   "execution_count": 1,
   "id": "1068399f",
   "metadata": {},
   "outputs": [
    {
     "name": "stdout",
     "output_type": "stream",
     "text": [
      "Current date '2024-04-02 13:19:26' has been written to today.txt.\n"
     ]
    }
   ],
   "source": [
    "# code:\n",
    "from datetime import datetime\n",
    "\n",
    "# Get the current date as a string\n",
    "current_date = datetime.now().strftime('%Y-%m-%d %H:%M:%S')\n",
    "\n",
    "# Write the current date to the file today.txt\n",
    "with open('today.txt', 'w') as file:\n",
    "    file.write(current_date)\n",
    "\n",
    "print(f\"Current date '{current_date}' has been written to today.txt.\")"
   ]
  },
  {
   "cell_type": "markdown",
   "id": "7eae08a5",
   "metadata": {},
   "source": [
    "# 2."
   ]
  },
  {
   "cell_type": "code",
   "execution_count": 2,
   "id": "97f4c11e",
   "metadata": {},
   "outputs": [
    {
     "name": "stdout",
     "output_type": "stream",
     "text": [
      "2024-04-02 13:19:26\n"
     ]
    }
   ],
   "source": [
    "# code:\n",
    "# Read the contents of today.txt into a string variable\n",
    "with open('today.txt', 'r') as file:\n",
    "    today_string = file.read()\n",
    "\n",
    "print(today_string)"
   ]
  },
  {
   "cell_type": "markdown",
   "id": "18510e4a",
   "metadata": {},
   "source": [
    "# 3."
   ]
  },
  {
   "cell_type": "code",
   "execution_count": 3,
   "id": "51714db4",
   "metadata": {},
   "outputs": [
    {
     "name": "stdout",
     "output_type": "stream",
     "text": [
      "2024-04-02\n"
     ]
    }
   ],
   "source": [
    "# code:\n",
    "from datetime import datetime\n",
    "\n",
    "today_date_time = datetime.strptime(today_string.strip(), '%Y-%m-%d %H:%M:%S')\n",
    "\n",
    "# Extracting only the date part from the datetime object\n",
    "today_date = today_date_time.date()\n",
    "\n",
    "print(today_date)"
   ]
  },
  {
   "cell_type": "markdown",
   "id": "79b13c0d",
   "metadata": {},
   "source": [
    "# 4."
   ]
  },
  {
   "cell_type": "code",
   "execution_count": 4,
   "id": "ef65706a",
   "metadata": {
    "scrolled": true
   },
   "outputs": [
    {
     "data": {
      "text/plain": [
       "['.anaconda',\n",
       " '.bash_history',\n",
       " '.conda',\n",
       " '.condarc',\n",
       " '.continuum',\n",
       " '.gitconfig',\n",
       " '.ipynb_checkpoints',\n",
       " '.ipython',\n",
       " '.jupyter',\n",
       " '.lesshst',\n",
       " '.matplotlib',\n",
       " '.popsql.json',\n",
       " '.VirtualBox',\n",
       " '.vscode',\n",
       " 'adv_pyth_assign1.ipynb',\n",
       " 'anaconda3',\n",
       " 'ansel',\n",
       " 'AppData',\n",
       " 'Application Data',\n",
       " 'BlackFriday.ipynb',\n",
       " 'cluster_model.pkl',\n",
       " 'Contacts',\n",
       " 'Cookies',\n",
       " 'Covid data.ipynb',\n",
       " 'Covid Pred.ipynb',\n",
       " 'cropped_image.PNG',\n",
       " 'data',\n",
       " 'Data Ingestion (Beautiful_soup).ipynb',\n",
       " 'data.csv',\n",
       " 'database.sqlit',\n",
       " 'Decision_Tree.ipynb',\n",
       " 'Desktop',\n",
       " 'Documents',\n",
       " 'Downloads',\n",
       " 'EDA (with stats).ipynb',\n",
       " 'EDA.ipynb',\n",
       " 'Favorites',\n",
       " 'Hierarchial.ipynb',\n",
       " 'Hypothesis Test Practical Implementation .ipynb',\n",
       " 'Hypothesis_Testing.ipynb',\n",
       " 'img.png',\n",
       " 'Income_pred.ipynb',\n",
       " 'iris.ipynb',\n",
       " 'K-Means-Clustering.ipynb',\n",
       " 'kmeans_cluster.ipynb',\n",
       " 'Links',\n",
       " 'Lin_Reg.ipynb',\n",
       " 'lin_reg.sav',\n",
       " 'Local Settings',\n",
       " 'logistic.pkl',\n",
       " 'Log_Las_Rid.ipynb',\n",
       " 'ml_assign_1.ipynb',\n",
       " 'Mobile Sales.ipynb',\n",
       " 'model.pkl',\n",
       " 'modified_example.PNG',\n",
       " 'Music',\n",
       " 'My Documents',\n",
       " 'NetHood',\n",
       " 'NTUSER.DAT',\n",
       " 'ntuser.dat.LOG1',\n",
       " 'ntuser.dat.LOG2',\n",
       " 'NTUSER.DAT{d379892d-1658-11ee-b685-a3c45deed4bf}.TxR.0.regtrans-ms',\n",
       " 'NTUSER.DAT{d379892d-1658-11ee-b685-a3c45deed4bf}.TxR.1.regtrans-ms',\n",
       " 'NTUSER.DAT{d379892d-1658-11ee-b685-a3c45deed4bf}.TxR.2.regtrans-ms',\n",
       " 'NTUSER.DAT{d379892d-1658-11ee-b685-a3c45deed4bf}.TxR.blf',\n",
       " 'NTUSER.DAT{d379892e-1658-11ee-b685-a3c45deed4bf}.TM.blf',\n",
       " 'NTUSER.DAT{d379892e-1658-11ee-b685-a3c45deed4bf}.TMContainer00000000000000000001.regtrans-ms',\n",
       " 'NTUSER.DAT{d379892e-1658-11ee-b685-a3c45deed4bf}.TMContainer00000000000000000002.regtrans-ms',\n",
       " 'ntuser.ini',\n",
       " 'OneDrive',\n",
       " 'output.csv',\n",
       " 'Pictures',\n",
       " 'Postman',\n",
       " 'PrintHood',\n",
       " 'project folder',\n",
       " 'PycharmProjects',\n",
       " 'pyth_assign_1.ipynb',\n",
       " 'pyth_assign_10.ipynb',\n",
       " 'pyth_assign_11.ipynb',\n",
       " 'pyth_assign_13.ipynb',\n",
       " 'pyth_assign_14.ipynb',\n",
       " 'pyth_assign_16.ipynb',\n",
       " 'pyth_assign_17.ipynb',\n",
       " 'pyth_assign_18.ipynb',\n",
       " 'pyth_assign_2.ipynb',\n",
       " 'pyth_assign_4.ipynb',\n",
       " 'pyth_assign_5.ipynb',\n",
       " 'pyth_assign_6.ipynb',\n",
       " 'pyth_assign_8.ipynb',\n",
       " 'pyth_assign_9.ipynb',\n",
       " 'Recent',\n",
       " 'report.html',\n",
       " 'Saved Games',\n",
       " 'scikit_learn_data',\n",
       " 'seaborn-data',\n",
       " 'Searches',\n",
       " 'SendTo',\n",
       " 'shapes.png',\n",
       " 'source',\n",
       " 'Start Menu',\n",
       " 'student_scores.ipynb',\n",
       " 'SVM.ipynb',\n",
       " 'Target & Load.ipynb',\n",
       " 'Templates',\n",
       " 'Terorrism_activity.ipynb',\n",
       " 'test.py',\n",
       " 'test_file.html',\n",
       " 'Titanic data.ipynb',\n",
       " 'today.txt',\n",
       " 'Tree.pkl',\n",
       " 'tree_model.pkl',\n",
       " 'Untitled.ipynb',\n",
       " 'Untitled1.ipynb',\n",
       " 'Untitled10.ipynb',\n",
       " 'Untitled11.ipynb',\n",
       " 'Untitled12.ipynb',\n",
       " 'Untitled13.ipynb',\n",
       " 'Untitled14.ipynb',\n",
       " 'Untitled15.ipynb',\n",
       " 'Untitled16.ipynb',\n",
       " 'Untitled17.ipynb',\n",
       " 'Untitled18.ipynb',\n",
       " 'Untitled19.ipynb',\n",
       " 'Untitled2.ipynb',\n",
       " 'Untitled20.ipynb',\n",
       " 'Untitled21.ipynb',\n",
       " 'Untitled22.ipynb',\n",
       " 'Untitled23.ipynb',\n",
       " 'Untitled3.ipynb',\n",
       " 'Untitled4.ipynb',\n",
       " 'Untitled5.ipynb',\n",
       " 'Untitled6.ipynb',\n",
       " 'Untitled7.ipynb',\n",
       " 'Untitled8.ipynb',\n",
       " 'Untitled9.ipynb',\n",
       " 'Videos',\n",
       " 'VirtualBox VMs',\n",
       " 'xgboost.pkl',\n",
       " 'zomato data analyse.ipynb',\n",
       " 'zoo.py',\n",
       " '__pycache__']"
      ]
     },
     "execution_count": 4,
     "metadata": {},
     "output_type": "execute_result"
    }
   ],
   "source": [
    "# code:\n",
    "import os\n",
    "os.listdir()"
   ]
  },
  {
   "cell_type": "markdown",
   "id": "aa6a9fa0",
   "metadata": {},
   "source": [
    "# 5."
   ]
  },
  {
   "cell_type": "code",
   "execution_count": 5,
   "id": "2e29492a",
   "metadata": {},
   "outputs": [
    {
     "name": "stdout",
     "output_type": "stream",
     "text": [
      "['.anaconda', '.bash_history', '.conda', '.condarc', '.continuum', '.gitconfig', '.ipynb_checkpoints', '.ipython', '.jupyter', '.lesshst', '.matplotlib', '.popsql.json', '.VirtualBox', '.vscode', 'adv_pyth_assign1.ipynb', 'anaconda3', 'ansel', 'AppData', 'Application Data', 'BlackFriday.ipynb', 'cluster_model.pkl', 'Contacts', 'Cookies', 'Covid data.ipynb', 'Covid Pred.ipynb', 'cropped_image.PNG', 'data', 'Data Ingestion (Beautiful_soup).ipynb', 'data.csv', 'database.sqlit', 'Decision_Tree.ipynb', 'Desktop', 'Documents', 'Downloads', 'EDA (with stats).ipynb', 'EDA.ipynb', 'Favorites', 'Hierarchial.ipynb', 'Hypothesis Test Practical Implementation .ipynb', 'Hypothesis_Testing.ipynb', 'img.png', 'Income_pred.ipynb', 'iris.ipynb', 'K-Means-Clustering.ipynb', 'kmeans_cluster.ipynb', 'Links', 'Lin_Reg.ipynb', 'lin_reg.sav', 'Local Settings', 'logistic.pkl', 'Log_Las_Rid.ipynb', 'ml_assign_1.ipynb', 'Mobile Sales.ipynb', 'model.pkl', 'modified_example.PNG', 'Music', 'My Documents', 'NetHood', 'NTUSER.DAT', 'ntuser.dat.LOG1', 'ntuser.dat.LOG2', 'NTUSER.DAT{d379892d-1658-11ee-b685-a3c45deed4bf}.TxR.0.regtrans-ms', 'NTUSER.DAT{d379892d-1658-11ee-b685-a3c45deed4bf}.TxR.1.regtrans-ms', 'NTUSER.DAT{d379892d-1658-11ee-b685-a3c45deed4bf}.TxR.2.regtrans-ms', 'NTUSER.DAT{d379892d-1658-11ee-b685-a3c45deed4bf}.TxR.blf', 'NTUSER.DAT{d379892e-1658-11ee-b685-a3c45deed4bf}.TM.blf', 'NTUSER.DAT{d379892e-1658-11ee-b685-a3c45deed4bf}.TMContainer00000000000000000001.regtrans-ms', 'NTUSER.DAT{d379892e-1658-11ee-b685-a3c45deed4bf}.TMContainer00000000000000000002.regtrans-ms', 'ntuser.ini', 'OneDrive', 'output.csv', 'Pictures', 'Postman', 'PrintHood', 'project folder', 'PycharmProjects', 'pyth_assign_1.ipynb', 'pyth_assign_10.ipynb', 'pyth_assign_11.ipynb', 'pyth_assign_13.ipynb', 'pyth_assign_14.ipynb', 'pyth_assign_16.ipynb', 'pyth_assign_17.ipynb', 'pyth_assign_18.ipynb', 'pyth_assign_2.ipynb', 'pyth_assign_4.ipynb', 'pyth_assign_5.ipynb', 'pyth_assign_6.ipynb', 'pyth_assign_8.ipynb', 'pyth_assign_9.ipynb', 'Recent', 'report.html', 'Saved Games', 'scikit_learn_data', 'seaborn-data', 'Searches', 'SendTo', 'shapes.png', 'source', 'Start Menu', 'student_scores.ipynb', 'SVM.ipynb', 'Target & Load.ipynb', 'Templates', 'Terorrism_activity.ipynb', 'test.py', 'test_file.html', 'Titanic data.ipynb', 'today.txt', 'Tree.pkl', 'tree_model.pkl', 'Untitled.ipynb', 'Untitled1.ipynb', 'Untitled10.ipynb', 'Untitled11.ipynb', 'Untitled12.ipynb', 'Untitled13.ipynb', 'Untitled14.ipynb', 'Untitled15.ipynb', 'Untitled16.ipynb', 'Untitled17.ipynb', 'Untitled18.ipynb', 'Untitled19.ipynb', 'Untitled2.ipynb', 'Untitled20.ipynb', 'Untitled21.ipynb', 'Untitled22.ipynb', 'Untitled23.ipynb', 'Untitled3.ipynb', 'Untitled4.ipynb', 'Untitled5.ipynb', 'Untitled6.ipynb', 'Untitled7.ipynb', 'Untitled8.ipynb', 'Untitled9.ipynb', 'Videos', 'VirtualBox VMs', 'xgboost.pkl', 'zomato data analyse.ipynb', 'zoo.py', '__pycache__']\n"
     ]
    }
   ],
   "source": [
    "# code:\n",
    "files = os.listdir()\n",
    "l = list(files)\n",
    "print(l)"
   ]
  },
  {
   "cell_type": "markdown",
   "id": "42c9a5bc",
   "metadata": {},
   "source": [
    "# 6."
   ]
  },
  {
   "cell_type": "code",
   "execution_count": 6,
   "id": "8a3cd7e4",
   "metadata": {},
   "outputs": [],
   "source": [
    "# code:\n",
    "import multiprocessing\n",
    "import time\n",
    "import random\n",
    "from datetime import datetime\n",
    "\n",
    "def worker():\n",
    "    # Generate a random sleep time between 1 and 5 seconds\n",
    "    sleep_time = random.randint(1, 5)\n",
    "    \n",
    "    # Sleep for the generated time\n",
    "    time.sleep(sleep_time)\n",
    "    \n",
    "    # Print the current time after sleeping\n",
    "    print(f\"Process {multiprocessing.current_process().name}: Current time is {datetime.now()}\")\n",
    "    \n",
    "if __name__ == \"__main__\":\n",
    "    # Create three separate processes\n",
    "    processes = []\n",
    "    for i in range(3):\n",
    "        process = multiprocessing.Process(target=worker, name=f\"Process-{i+1}\")\n",
    "        processes.append(process)\n",
    "        process.start()\n",
    "    \n",
    "    # Wait for all processes to finish\n",
    "    for process in processes:\n",
    "        process.join()"
   ]
  },
  {
   "cell_type": "markdown",
   "id": "2368c48d",
   "metadata": {},
   "source": [
    "# 7."
   ]
  },
  {
   "cell_type": "code",
   "execution_count": 7,
   "id": "c8bcfd6e",
   "metadata": {},
   "outputs": [
    {
     "name": "stdout",
     "output_type": "stream",
     "text": [
      "Date of Birth: 1990-10-15 00:00:00\n"
     ]
    }
   ],
   "source": [
    "# code:\n",
    "from datetime import datetime\n",
    "\n",
    "# Specify your date of birth (replace these values with your actual birthdate)\n",
    "year = 1990\n",
    "month = 10\n",
    "day = 15\n",
    "\n",
    "# Create a date object for your day of birth\n",
    "dob = datetime(year, month, day)\n",
    "\n",
    "print(\"Date of Birth:\", dob)"
   ]
  },
  {
   "cell_type": "markdown",
   "id": "ea8a8538",
   "metadata": {},
   "source": [
    "# 8."
   ]
  },
  {
   "cell_type": "code",
   "execution_count": 8,
   "id": "e964bf50",
   "metadata": {},
   "outputs": [
    {
     "name": "stdout",
     "output_type": "stream",
     "text": [
      "Day of the week of your birth: Monday\n"
     ]
    }
   ],
   "source": [
    "# code:\n",
    "from datetime import datetime\n",
    "\n",
    "# Specify your date of birth (replace these values with your actual birthdate)\n",
    "year = 1990\n",
    "month = 10\n",
    "day = 15\n",
    "\n",
    "# Create a date object for your day of birth\n",
    "dob = datetime(year, month, day)\n",
    "\n",
    "# Format the date to display the day of the week\n",
    "day_of_week = dob.strftime(\"%A\")\n",
    "\n",
    "print(\"Day of the week of your birth:\", day_of_week)"
   ]
  },
  {
   "cell_type": "markdown",
   "id": "f1493f4f",
   "metadata": {},
   "source": [
    "# 9."
   ]
  },
  {
   "cell_type": "code",
   "execution_count": 10,
   "id": "9d02f558",
   "metadata": {},
   "outputs": [
    {
     "name": "stdout",
     "output_type": "stream",
     "text": [
      "You will be (or were) 10,000 days old on: 2018-03-02\n"
     ]
    }
   ],
   "source": [
    "# code:\n",
    "from datetime import datetime, timedelta\n",
    "\n",
    "# Specify your date of birth (replace these values with your actual birthdate)\n",
    "year = 1990\n",
    "month = 10\n",
    "day = 15\n",
    "\n",
    "# Create a date object for your day of birth\n",
    "dob = datetime(year, month, day)\n",
    "\n",
    "# Calculate the date when you will be (or were) 10,000 days old\n",
    "ten_thousand_days = dob + timedelta(days=10000)\n",
    "\n",
    "print(\"You will be (or were) 10,000 days old on:\", ten_thousand_days.strftime(\"%Y-%m-%d\"))"
   ]
  },
  {
   "cell_type": "code",
   "execution_count": null,
   "id": "aeeb7761",
   "metadata": {},
   "outputs": [],
   "source": []
  }
 ],
 "metadata": {
  "kernelspec": {
   "display_name": "Python 3 (ipykernel)",
   "language": "python",
   "name": "python3"
  },
  "language_info": {
   "codemirror_mode": {
    "name": "ipython",
    "version": 3
   },
   "file_extension": ".py",
   "mimetype": "text/x-python",
   "name": "python",
   "nbconvert_exporter": "python",
   "pygments_lexer": "ipython3",
   "version": "3.11.5"
  }
 },
 "nbformat": 4,
 "nbformat_minor": 5
}
